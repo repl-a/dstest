{
 "cells": [
  {
   "cell_type": "markdown",
   "id": "22d92b8d-f0a7-49be-8f1e-684ce795b732",
   "metadata": {},
   "source": [
    "Data Science Tools and Ecosystem"
   ]
  },
  {
   "cell_type": "markdown",
   "id": "16717aee-421b-4401-9a7f-86b875490acd",
   "metadata": {
    "tags": []
   },
   "source": [
    "In this notebook, Data Science Tools and Ecosystem are summarized."
   ]
  },
  {
   "cell_type": "markdown",
   "id": "5fe85266-3bec-43b7-8dfb-48a39e31792a",
   "metadata": {},
   "source": [
    "1. R\n",
    "2. Python\n",
    "3. Julia"
   ]
  },
  {
   "cell_type": "markdown",
   "id": "19b8b498-d370-4185-b5b9-f751d3c6d50f",
   "metadata": {},
   "source": [
    "1. PyTorch\n",
    "2. Pandas\n",
    "3. Matplotlib\n"
   ]
  },
  {
   "cell_type": "markdown",
   "id": "6727a72e-212a-4610-86b1-bbc28dba9a87",
   "metadata": {
    "tags": []
   },
   "source": [
    "| Data Science Tools |\n",
    "----------------------\n",
    "| NumPy              |\n",
    "| Pandas             |\n",
    "| Matplotlib         |"
   ]
  },
  {
   "cell_type": "markdown",
   "id": "c79d55a2-75d4-4ac0-bb86-b713cf825ba4",
   "metadata": {},
   "source": [
    "Below are a few examples of evaluating arithmetic expressions in Python:\n",
    "- 2 + 3 = 5\n",
    "- 5 + 3 = 8\n",
    "7 - 1 = 6"
   ]
  },
  {
   "cell_type": "code",
   "execution_count": null,
   "id": "a8eaa12f-de7f-4ba3-8ae1-4a25e3536118",
   "metadata": {},
   "outputs": [],
   "source": []
  }
 ],
 "metadata": {
  "kernelspec": {
   "display_name": "Python",
   "language": "python",
   "name": "conda-env-python-py"
  },
  "language_info": {
   "codemirror_mode": {
    "name": "ipython",
    "version": 3
   },
   "file_extension": ".py",
   "mimetype": "text/x-python",
   "name": "python",
   "nbconvert_exporter": "python",
   "pygments_lexer": "ipython3",
   "version": "3.7.12"
  }
 },
 "nbformat": 4,
 "nbformat_minor": 5
}
